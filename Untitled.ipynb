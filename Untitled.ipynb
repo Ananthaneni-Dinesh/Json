{
 "cells": [
  {
   "cell_type": "markdown",
   "id": "9ffa8854",
   "metadata": {},
   "source": [
    "# Assignment 1"
   ]
  },
  {
   "cell_type": "code",
   "execution_count": 2,
   "id": "c8a41066",
   "metadata": {},
   "outputs": [
    {
     "name": "stdout",
     "output_type": "stream",
     "text": [
      "[Dinesh, 04/04/2001, 6'0, Chittoor, AP, Bhuvan, 02/02/2000, 5'6, Tirupati, AP, Chakri, 03/03/2000, 6'2, Vellore, TN, Harish, 04/04/2000, 5'5, Chennai, TN, Bobby, 05/05/2000, 6'1, Chittoor, AP]\n"
     ]
    }
   ],
   "source": [
    "import json\n",
    "\n",
    "class Employee:\n",
    "    def __init__(self, name, dob, height, city, state):\n",
    "        self.name = name\n",
    "        self.dob = dob\n",
    "        self.height = height\n",
    "        self.city = city\n",
    "        self.state = state\n",
    "\n",
    "    def __repr__(self):\n",
    "        return f\"{self.name}, {self.dob}, {self.height}, {self.city}, {self.state}\"\n",
    "\n",
    "\n",
    "employee_data = [\n",
    "    {\"name\": \"Dinesh\", \"dob\": \"04/04/2001\", \"height\": \"6'0\", \"city\": \"Chittoor\", \"state\": \"AP\"},\n",
    "    {\"name\": \"Bhuvan\", \"dob\": \"02/02/2000\", \"height\": \"5'6\", \"city\": \"Tirupati\", \"state\": \"AP\"},\n",
    "    {\"name\": \"Chakri\", \"dob\": \"03/03/2000\", \"height\": \"6'2\", \"city\": \"Vellore\", \"state\": \"TN\"},\n",
    "    {\"name\": \"Harish\", \"dob\": \"04/04/2000\", \"height\": \"5'5\", \"city\": \"Chennai\", \"state\": \"TN\"},\n",
    "    {\"name\": \"Bobby\", \"dob\": \"05/05/2000\", \"height\": \"6'1\", \"city\": \"Chittoor\", \"state\": \"AP\"},\n",
    "]\n",
    "\n",
    "with open(\"employee.json\", \"w\") as file:\n",
    "    json.dump(employee_data, file)\n",
    "\n",
    "# read the employee information from the JSON file\n",
    "employee_objects = []\n",
    "with open(\"employee.json\", \"r\") as file:\n",
    "    employee_data = json.load(file)\n",
    "    for employee in employee_data:\n",
    "        employee_objects.append(\n",
    "            Employee(\n",
    "                name=employee[\"name\"],\n",
    "                dob=employee[\"dob\"],\n",
    "                height=employee[\"height\"],\n",
    "                city=employee[\"city\"],\n",
    "                state=employee[\"state\"],\n",
    "            )\n",
    "        )\n",
    "\n",
    "# print the list of employee objects\n",
    "print(employee_objects)\n"
   ]
  }
 ],
 "metadata": {
  "kernelspec": {
   "display_name": "Python 3 (ipykernel)",
   "language": "python",
   "name": "python3"
  },
  "language_info": {
   "codemirror_mode": {
    "name": "ipython",
    "version": 3
   },
   "file_extension": ".py",
   "mimetype": "text/x-python",
   "name": "python",
   "nbconvert_exporter": "python",
   "pygments_lexer": "ipython3",
   "version": "3.9.13"
  }
 },
 "nbformat": 4,
 "nbformat_minor": 5
}
