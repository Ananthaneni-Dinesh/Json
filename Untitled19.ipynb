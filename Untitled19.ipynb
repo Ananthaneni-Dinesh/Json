{
 "cells": [
  {
   "cell_type": "markdown",
   "id": "40050e8b",
   "metadata": {},
   "source": [
    "# Assignment 2"
   ]
  },
  {
   "cell_type": "code",
   "execution_count": 1,
   "id": "6a0739bc",
   "metadata": {},
   "outputs": [
    {
     "name": "stdout",
     "output_type": "stream",
     "text": [
      "Fido is 3 years old.\n",
      "Fido's coat color is brown.\n",
      "Scrappy is 2 years old.\n",
      "Scrappy's coat color is white.\n",
      "Scrappy says Woof Woof!\n",
      "Scrappy can roll over.\n",
      "Buddy is 5 years old.\n",
      "Buddy's coat color is black.\n",
      "Buddy snores loudly.\n",
      "Buddy drools a lot.\n"
     ]
    }
   ],
   "source": [
    "class Dog:\n",
    "    def __init__(self, name, age, coat_color):\n",
    "        self.name = name\n",
    "        self.age = age\n",
    "        self.coat_color = coat_color\n",
    "\n",
    "    def description(self):\n",
    "        print(f\"{self.name} is {self.age} years old.\")\n",
    "\n",
    "    def get_info(self):\n",
    "        print(f\"{self.name}'s coat color is {self.coat_color}.\")\n",
    "\n",
    "class JackRussellTerrier(Dog):\n",
    "    def bark(self):\n",
    "        print(f\"{self.name} says Woof Woof!\")\n",
    "    def trick(self):\n",
    "        print(f\"{self.name} can roll over.\")\n",
    "\n",
    "class Bulldog(Dog):\n",
    "    def snore(self):\n",
    "        print(f\"{self.name} snores loudly.\")\n",
    "    def drool(self):\n",
    "        print(f\"{self.name} drools a lot.\")\n",
    "\n",
    "dog1 = Dog(\"Fido\", 3, \"brown\")\n",
    "dog1.description()\n",
    "dog1.get_info()\n",
    "\n",
    "dog2 = JackRussellTerrier(\"Scrappy\", 2, \"white\")\n",
    "dog2.description()\n",
    "dog2.get_info()\n",
    "dog2.bark()\n",
    "dog2.trick()\n",
    "\n",
    "dog3 = Bulldog(\"Buddy\", 5, \"black\")\n",
    "dog3.description()\n",
    "dog3.get_info()\n",
    "dog3.snore()\n",
    "dog3.drool()\n"
   ]
  },
  {
   "cell_type": "markdown",
   "id": "9a6e0845",
   "metadata": {},
   "source": [
    "# Create a dictionary of any 7 Indian states and their capitals. Write this into a JSON file."
   ]
  },
  {
   "cell_type": "code",
   "execution_count": 3,
   "id": "5cb13c72",
   "metadata": {},
   "outputs": [],
   "source": [
    "import json\n",
    "\n",
    "indian_states = {\n",
    "    \"Andhra Pradesh\": \"Amaravati\",\n",
    "    \"Arunachal Pradesh\": \"Itanagar\",\n",
    "    \"Assam\": \"Dispur\",\n",
    "    \"Bihar\": \"Patna\",\n",
    "    \"Chhattisgarh\": \"Raipur\",\n",
    "    \"Goa\": \"Panaji\",\n",
    "    \"Gujarat\": \"Gandhinagar\"\n",
    "}\n",
    "\n",
    "with open(\"indian_states.json\", \"w\") as file:\n",
    "    json.dump(indian_states, file)\n"
   ]
  },
  {
   "cell_type": "markdown",
   "id": "9b90ba24",
   "metadata": {},
   "source": [
    "# Assignment 1"
   ]
  },
  {
   "cell_type": "code",
   "execution_count": null,
   "id": "2c66f819",
   "metadata": {},
   "outputs": [],
   "source": []
  }
 ],
 "metadata": {
  "kernelspec": {
   "display_name": "Python 3 (ipykernel)",
   "language": "python",
   "name": "python3"
  },
  "language_info": {
   "codemirror_mode": {
    "name": "ipython",
    "version": 3
   },
   "file_extension": ".py",
   "mimetype": "text/x-python",
   "name": "python",
   "nbconvert_exporter": "python",
   "pygments_lexer": "ipython3",
   "version": "3.9.13"
  }
 },
 "nbformat": 4,
 "nbformat_minor": 5
}
